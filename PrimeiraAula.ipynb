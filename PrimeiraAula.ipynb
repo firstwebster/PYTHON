{
 "cells": [
  {
   "cell_type": "code",
   "execution_count": 1,
   "id": "396dc85d",
   "metadata": {},
   "outputs": [
    {
     "name": "stdout",
     "output_type": "stream",
     "text": [
      "123\n"
     ]
    }
   ],
   "source": [
    "print(123) # Para imprimir número, é normal, não precisa de incrementos"
   ]
  },
  {
   "cell_type": "code",
   "execution_count": null,
   "id": "9622347f",
   "metadata": {},
   "outputs": [
    {
     "name": "stdout",
     "output_type": "stream",
     "text": [
      "aqui vc escreve o texto\n"
     ]
    }
   ],
   "source": [
    "print('aqui vc escreve o texto') #Para comentar textos precisa ser feito dentro de aspas simples\n",
    "#Se não tiver entre aspas o python entende como se fosse uma variável e não um texto"
   ]
  },
  {
   "cell_type": "code",
   "execution_count": 5,
   "id": "adb3a6e8",
   "metadata": {},
   "outputs": [
    {
     "name": "stdout",
     "output_type": "stream",
     "text": [
      "2\n",
      "0\n",
      "1\n",
      "1.5\n"
     ]
    }
   ],
   "source": [
    "\n",
    "print( 1 + 1)\n",
    "print(1 - 1)\n",
    "print(1 * 1)\n",
    "print(3 / 2)"
   ]
  },
  {
   "cell_type": "code",
   "execution_count": 7,
   "id": "3178e02b",
   "metadata": {},
   "outputs": [
    {
     "name": "stdout",
     "output_type": "stream",
     "text": [
      "meu nome é webster\n",
      "meu nome é webster Roberto\n"
     ]
    }
   ],
   "source": [
    "#string em python\n",
    "print('meu nome é webster')\n",
    "\n",
    "#também podemos juntar duas strings como abaixo\n",
    "print('meu nome é' + ' webster' + ' Roberto')"
   ]
  },
  {
   "cell_type": "code",
   "execution_count": null,
   "id": "4554a291",
   "metadata": {},
   "outputs": [
    {
     "name": "stdout",
     "output_type": "stream",
     "text": [
      "True\n"
     ]
    }
   ],
   "source": [
    "#String + in para verificar se o texto um está contido no texto 2 \n",
    "print(' w' in ' webster') #Tomar cuidade pois ele leva em consideração espaços e letras antes e depois da pesquisa\n",
    "#inclusive se a letra for maiuscula e minuscula também"
   ]
  },
  {
   "cell_type": "code",
   "execution_count": null,
   "id": "340a6c84",
   "metadata": {},
   "outputs": [
    {
     "name": "stdout",
     "output_type": "stream",
     "text": [
      "webster\n",
      "1500\n"
     ]
    }
   ],
   "source": [
    "#declarando variáveis em Python\n",
    "\n",
    "qtdade_vendas = 1500 \n",
    "nome = 'webster'\n",
    "\n",
    "print(nome)\n",
    "print(qtdade_vendas)"
   ]
  }
 ],
 "metadata": {
  "kernelspec": {
   "display_name": "Python 3",
   "language": "python",
   "name": "python3"
  },
  "language_info": {
   "codemirror_mode": {
    "name": "ipython",
    "version": 3
   },
   "file_extension": ".py",
   "mimetype": "text/x-python",
   "name": "python",
   "nbconvert_exporter": "python",
   "pygments_lexer": "ipython3",
   "version": "3.13.3"
  }
 },
 "nbformat": 4,
 "nbformat_minor": 5
}
